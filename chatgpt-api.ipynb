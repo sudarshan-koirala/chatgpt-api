{
 "cells": [
  {
   "cell_type": "markdown",
   "id": "27d36351-afeb-43c0-bda3-b3377784cc4b",
   "metadata": {
    "tags": []
   },
   "source": [
    "# ChatGPT API walkthrough [latest api info](https://openai.com/blog/introducing-chatgpt-and-whisper-apis)"
   ]
  },
  {
   "cell_type": "markdown",
   "id": "775f00b1-d61b-4736-a4e7-9d2ed1078309",
   "metadata": {
    "tags": []
   },
   "source": [
    "## Steps we will perform"
   ]
  },
  {
   "cell_type": "markdown",
   "id": "42b1deab-7df3-4073-8058-e6b0aa2e28f0",
   "metadata": {
    "tags": []
   },
   "source": [
    "1. Create account in openai and get the api key. --> https://platform.openai.com/\n",
    "2. Store the OPENAI_API_KEY securely and read it. --> `OPENAI_API_KEY=\"sk--\"`\n",
    "3. Install openai python package.\n",
    "4. Load the model and Create a replica of ChatGPT"
   ]
  },
  {
   "cell_type": "markdown",
   "id": "701d204c-6f59-4337-8a25-f8a0ca687226",
   "metadata": {
    "tags": []
   },
   "source": [
    "## Storing api key securely and reading it"
   ]
  },
  {
   "cell_type": "code",
   "execution_count": null,
   "id": "4774a070-0f9d-473e-9ec6-70a0b50272c5",
   "metadata": {
    "tags": []
   },
   "outputs": [],
   "source": [
    "!ls -lia"
   ]
  },
  {
   "cell_type": "code",
   "execution_count": null,
   "id": "0a765c41-9796-4bcb-9ce6-8bd4265d4495",
   "metadata": {
    "tags": []
   },
   "outputs": [],
   "source": [
    "import os"
   ]
  },
  {
   "cell_type": "code",
   "execution_count": null,
   "id": "f4631a8a-06ad-4be2-8060-c789758131fa",
   "metadata": {
    "tags": []
   },
   "outputs": [],
   "source": [
    "from dotenv import load_dotenv\n",
    "\n",
    "# Load the environment variables from the .env file\n",
    "load_dotenv()\n",
    "\n",
    "# Get the API key value from the environment variable\n",
    "#api_key = os.getenv('OPENAI_API_KEY')\n",
    "#print(api_key)"
   ]
  },
  {
   "cell_type": "markdown",
   "id": "590a2158-4b5a-424a-86b6-b758c6cad272",
   "metadata": {
    "tags": []
   },
   "source": [
    "## Installing openai python package and importing it"
   ]
  },
  {
   "cell_type": "code",
   "execution_count": null,
   "id": "23beae0c-bf48-427c-bc3e-a428c409e492",
   "metadata": {
    "tags": []
   },
   "outputs": [],
   "source": [
    "!pip install openai -q"
   ]
  },
  {
   "cell_type": "code",
   "execution_count": null,
   "id": "e944cb9a-a88a-4412-be79-7ad62cc1b199",
   "metadata": {},
   "outputs": [],
   "source": [
    "import openai"
   ]
  },
  {
   "cell_type": "code",
   "execution_count": null,
   "id": "69b01ff2-b692-4a87-848e-68b10478868a",
   "metadata": {},
   "outputs": [],
   "source": [
    "openai.api_key = os.getenv(\"OPENAI_API_KEY\")"
   ]
  },
  {
   "cell_type": "markdown",
   "id": "ea16c0d4-42bf-45b5-9d93-242638681761",
   "metadata": {
    "tags": []
   },
   "source": [
    "## Creating AI CHATBOT similar to ChatGPT [ChatGPT UI](https://chat.openai.com/)"
   ]
  },
  {
   "cell_type": "code",
   "execution_count": null,
   "id": "009c4bdc-2695-4407-9819-749ffc4c5c46",
   "metadata": {
    "tags": []
   },
   "outputs": [],
   "source": [
    "messages = [\n",
    "    # first we need to pass the system message, it helps to set the behavior of the assistant\n",
    "    {\"role\": \"system\", \"content\": \"You are a helpful assistant.\"}\n",
    "]"
   ]
  },
  {
   "cell_type": "code",
   "execution_count": null,
   "id": "41d24d9b-2096-4cde-b298-fa32a17a916e",
   "metadata": {
    "tags": []
   },
   "outputs": [],
   "source": [
    "#openai.Model.list()"
   ]
  },
  {
   "cell_type": "code",
   "execution_count": null,
   "id": "c771fbb1-3fe6-40bf-9b0e-8d2752e83645",
   "metadata": {
    "tags": []
   },
   "outputs": [],
   "source": [
    "while True:\n",
    "    message = input(\"🧑‍💻: \")\n",
    "    if message:\n",
    "        messages.append(\n",
    "            {\"role\": \"user\", \"content\": message},\n",
    "        )\n",
    "        chat_completion = openai.ChatCompletion.create(\n",
    "            model=\"gpt-3.5-turbo\", messages=messages\n",
    "        )\n",
    "    \n",
    "    reply = chat_completion.choices[0].message.content\n",
    "    print(f\"🤖: {reply}\")\n",
    "    messages.append({\"role\": \"assistant\", \"content\": reply})ii"
   ]
  },
  {
   "cell_type": "code",
   "execution_count": null,
   "id": "4894ea94-7d94-4e93-aa37-a064e6d400a9",
   "metadata": {},
   "outputs": [],
   "source": []
  }
 ],
 "metadata": {
  "kernelspec": {
   "display_name": "Python 3 (ipykernel)",
   "language": "python",
   "name": "python3"
  },
  "language_info": {
   "codemirror_mode": {
    "name": "ipython",
    "version": 3
   },
   "file_extension": ".py",
   "mimetype": "text/x-python",
   "name": "python",
   "nbconvert_exporter": "python",
   "pygments_lexer": "ipython3",
   "version": "3.10.4"
  }
 },
 "nbformat": 4,
 "nbformat_minor": 5
}
